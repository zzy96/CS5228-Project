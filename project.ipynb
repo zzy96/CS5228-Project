{
 "cells": [
  {
   "cell_type": "code",
   "execution_count": 1,
   "metadata": {},
   "outputs": [],
   "source": [
    "import pandas as pd\n",
    "import numpy as np\n",
    "import matplotlib.pyplot as plt\n",
    "from sklearn.model_selection import train_test_split\n",
    "from sklearn.preprocessing import StandardScaler, OneHotEncoder\n",
    "from sklearn.linear_model import LinearRegression\n",
    "from sklearn.ensemble import RandomForestRegressor, GradientBoostingRegressor, AdaBoostRegressor\n",
    "from sklearn.model_selection import train_test_split, GridSearchCV\n",
    "from sklearn.metrics import mean_squared_error, r2_score\n",
    "from scipy.stats import randint as sp_randint\n",
    "from sklearn import preprocessing\n",
    "from xgboost import XGBRegressor\n",
    "\n",
    "import extract_location_features\n",
    "import preprocessing"
   ]
  },
  {
   "cell_type": "code",
   "execution_count": 2,
   "metadata": {},
   "outputs": [],
   "source": [
    "# extract_location_features.main()\n",
    "# preprocessing.main()"
   ]
  },
  {
   "cell_type": "code",
   "execution_count": 3,
   "metadata": {},
   "outputs": [],
   "source": [
    "df = pd.read_csv('data/train_preprocessed.csv', sep='\\t')"
   ]
  },
  {
   "cell_type": "code",
   "execution_count": 4,
   "metadata": {},
   "outputs": [
    {
     "name": "stdout",
     "output_type": "stream",
     "text": [
      "<class 'pandas.core.frame.DataFrame'>\n",
      "RangeIndex: 431732 entries, 0 to 431731\n",
      "Data columns (total 53 columns):\n",
      " #   Column                      Non-Null Count   Dtype  \n",
      "---  ------                      --------------   -----  \n",
      " 0   price_index                 431732 non-null  float64\n",
      " 1   year                        431732 non-null  int64  \n",
      " 2   month                       431732 non-null  int64  \n",
      " 3   num_rooms                   431732 non-null  int64  \n",
      " 4   is_executive                431732 non-null  bool   \n",
      " 5   is_multi_gen                431732 non-null  bool   \n",
      " 6   storey_range_avg            431732 non-null  float64\n",
      " 7   is_low_floor                431732 non-null  int64  \n",
      " 8   floor_area_sqm              431732 non-null  float64\n",
      " 9   lease_commence_date         431732 non-null  int64  \n",
      " 10  latitude                    431732 non-null  float64\n",
      " 11  longitude                   431732 non-null  float64\n",
      " 12  elevation                   431732 non-null  float64\n",
      " 13  town                        431732 non-null  object \n",
      " 14  block                       431732 non-null  object \n",
      " 15  street_name                 431732 non-null  object \n",
      " 16  flat_model                  431732 non-null  object \n",
      " 17  subzone                     431732 non-null  object \n",
      " 18  planning_area               431732 non-null  object \n",
      " 19  region                      431732 non-null  object \n",
      " 20  cbd_dist                    431732 non-null  float64\n",
      " 21  nearest_center              431732 non-null  int64  \n",
      " 22  n_center_dist               431732 non-null  float64\n",
      " 23  nearest_markets             431732 non-null  int64  \n",
      " 24  nearest_markets_dist        431732 non-null  float64\n",
      " 25  nearest_pri_school          431732 non-null  int64  \n",
      " 26  nearest_pri_school_dist     431732 non-null  float64\n",
      " 27  nearest_sec_school          431732 non-null  int64  \n",
      " 28  nearest_sec_school_dist     431732 non-null  float64\n",
      " 29  nearest_mall                431732 non-null  int64  \n",
      " 30  nearest_mall_dist           431732 non-null  float64\n",
      " 31  nearest_train_station       431732 non-null  int64  \n",
      " 32  nearest_train_station_dist  431732 non-null  float64\n",
      " 33  pop0                        107934 non-null  float64\n",
      " 34  pop1                        107934 non-null  float64\n",
      " 35  pop2                        107934 non-null  float64\n",
      " 36  pop3                        107934 non-null  float64\n",
      " 37  pop4                        107934 non-null  float64\n",
      " 38  pop5                        107934 non-null  float64\n",
      " 39  pop6                        107934 non-null  float64\n",
      " 40  pop7                        107934 non-null  float64\n",
      " 41  pop8                        107934 non-null  float64\n",
      " 42  pop9                        107934 non-null  float64\n",
      " 43  pop10                       107934 non-null  float64\n",
      " 44  pop11                       107934 non-null  float64\n",
      " 45  pop12                       107934 non-null  float64\n",
      " 46  pop13                       107934 non-null  float64\n",
      " 47  pop14                       107934 non-null  float64\n",
      " 48  pop15                       107934 non-null  float64\n",
      " 49  pop16                       107934 non-null  float64\n",
      " 50  pop17                       107934 non-null  float64\n",
      " 51  pop18                       107934 non-null  float64\n",
      " 52  resale_price                431732 non-null  float64\n",
      "dtypes: bool(2), float64(33), int64(11), object(7)\n",
      "memory usage: 168.8+ MB\n"
     ]
    }
   ],
   "source": [
    "df.info()"
   ]
  },
  {
   "cell_type": "code",
   "execution_count": 5,
   "metadata": {
    "tags": []
   },
   "outputs": [
    {
     "data": {
      "text/html": [
       "<div>\n",
       "<style scoped>\n",
       "    .dataframe tbody tr th:only-of-type {\n",
       "        vertical-align: middle;\n",
       "    }\n",
       "\n",
       "    .dataframe tbody tr th {\n",
       "        vertical-align: top;\n",
       "    }\n",
       "\n",
       "    .dataframe thead th {\n",
       "        text-align: right;\n",
       "    }\n",
       "</style>\n",
       "<table border=\"1\" class=\"dataframe\">\n",
       "  <thead>\n",
       "    <tr style=\"text-align: right;\">\n",
       "      <th></th>\n",
       "      <th>price_index</th>\n",
       "      <th>year</th>\n",
       "      <th>month</th>\n",
       "      <th>num_rooms</th>\n",
       "      <th>is_executive</th>\n",
       "      <th>is_multi_gen</th>\n",
       "      <th>storey_range_avg</th>\n",
       "      <th>is_low_floor</th>\n",
       "      <th>floor_area_sqm</th>\n",
       "      <th>lease_commence_date</th>\n",
       "      <th>...</th>\n",
       "      <th>pop10</th>\n",
       "      <th>pop11</th>\n",
       "      <th>pop12</th>\n",
       "      <th>pop13</th>\n",
       "      <th>pop14</th>\n",
       "      <th>pop15</th>\n",
       "      <th>pop16</th>\n",
       "      <th>pop17</th>\n",
       "      <th>pop18</th>\n",
       "      <th>resale_price</th>\n",
       "    </tr>\n",
       "  </thead>\n",
       "  <tbody>\n",
       "    <tr>\n",
       "      <th>0</th>\n",
       "      <td>70.6</td>\n",
       "      <td>2001</td>\n",
       "      <td>8</td>\n",
       "      <td>4</td>\n",
       "      <td>False</td>\n",
       "      <td>False</td>\n",
       "      <td>2.0</td>\n",
       "      <td>1</td>\n",
       "      <td>118.0</td>\n",
       "      <td>1989</td>\n",
       "      <td>...</td>\n",
       "      <td>1260.0</td>\n",
       "      <td>1310.0</td>\n",
       "      <td>1120.0</td>\n",
       "      <td>710.0</td>\n",
       "      <td>350.0</td>\n",
       "      <td>240.0</td>\n",
       "      <td>180.0</td>\n",
       "      <td>140.0</td>\n",
       "      <td>15250.0</td>\n",
       "      <td>209700.0</td>\n",
       "    </tr>\n",
       "    <tr>\n",
       "      <th>1</th>\n",
       "      <td>137.0</td>\n",
       "      <td>2014</td>\n",
       "      <td>10</td>\n",
       "      <td>5</td>\n",
       "      <td>False</td>\n",
       "      <td>False</td>\n",
       "      <td>11.0</td>\n",
       "      <td>0</td>\n",
       "      <td>110.0</td>\n",
       "      <td>2003</td>\n",
       "      <td>...</td>\n",
       "      <td>12150.0</td>\n",
       "      <td>12200.0</td>\n",
       "      <td>9440.0</td>\n",
       "      <td>6220.0</td>\n",
       "      <td>3000.0</td>\n",
       "      <td>2350.0</td>\n",
       "      <td>1560.0</td>\n",
       "      <td>1220.0</td>\n",
       "      <td>138490.0</td>\n",
       "      <td>402300.0</td>\n",
       "    </tr>\n",
       "    <tr>\n",
       "      <th>2</th>\n",
       "      <td>133.9</td>\n",
       "      <td>2020</td>\n",
       "      <td>9</td>\n",
       "      <td>5</td>\n",
       "      <td>False</td>\n",
       "      <td>False</td>\n",
       "      <td>2.0</td>\n",
       "      <td>1</td>\n",
       "      <td>112.0</td>\n",
       "      <td>2004</td>\n",
       "      <td>...</td>\n",
       "      <td>1390.0</td>\n",
       "      <td>1490.0</td>\n",
       "      <td>1120.0</td>\n",
       "      <td>670.0</td>\n",
       "      <td>300.0</td>\n",
       "      <td>210.0</td>\n",
       "      <td>160.0</td>\n",
       "      <td>100.0</td>\n",
       "      <td>16540.0</td>\n",
       "      <td>351000.0</td>\n",
       "    </tr>\n",
       "    <tr>\n",
       "      <th>3</th>\n",
       "      <td>75.8</td>\n",
       "      <td>2000</td>\n",
       "      <td>10</td>\n",
       "      <td>3</td>\n",
       "      <td>False</td>\n",
       "      <td>False</td>\n",
       "      <td>8.0</td>\n",
       "      <td>0</td>\n",
       "      <td>67.0</td>\n",
       "      <td>1980</td>\n",
       "      <td>...</td>\n",
       "      <td>340.0</td>\n",
       "      <td>390.0</td>\n",
       "      <td>290.0</td>\n",
       "      <td>220.0</td>\n",
       "      <td>130.0</td>\n",
       "      <td>90.0</td>\n",
       "      <td>40.0</td>\n",
       "      <td>60.0</td>\n",
       "      <td>4130.0</td>\n",
       "      <td>151200.0</td>\n",
       "    </tr>\n",
       "    <tr>\n",
       "      <th>4</th>\n",
       "      <td>148.6</td>\n",
       "      <td>2013</td>\n",
       "      <td>1</td>\n",
       "      <td>3</td>\n",
       "      <td>False</td>\n",
       "      <td>False</td>\n",
       "      <td>8.0</td>\n",
       "      <td>0</td>\n",
       "      <td>73.0</td>\n",
       "      <td>1985</td>\n",
       "      <td>...</td>\n",
       "      <td>2150.0</td>\n",
       "      <td>2000.0</td>\n",
       "      <td>2230.0</td>\n",
       "      <td>2250.0</td>\n",
       "      <td>1220.0</td>\n",
       "      <td>1020.0</td>\n",
       "      <td>590.0</td>\n",
       "      <td>510.0</td>\n",
       "      <td>28760.0</td>\n",
       "      <td>318600.0</td>\n",
       "    </tr>\n",
       "  </tbody>\n",
       "</table>\n",
       "<p>5 rows × 53 columns</p>\n",
       "</div>"
      ],
      "text/plain": [
       "   price_index  year  month  num_rooms  is_executive  is_multi_gen   \n",
       "0         70.6  2001      8          4         False         False  \\\n",
       "1        137.0  2014     10          5         False         False   \n",
       "2        133.9  2020      9          5         False         False   \n",
       "3         75.8  2000     10          3         False         False   \n",
       "4        148.6  2013      1          3         False         False   \n",
       "\n",
       "   storey_range_avg  is_low_floor  floor_area_sqm  lease_commence_date  ...   \n",
       "0               2.0             1           118.0                 1989  ...  \\\n",
       "1              11.0             0           110.0                 2003  ...   \n",
       "2               2.0             1           112.0                 2004  ...   \n",
       "3               8.0             0            67.0                 1980  ...   \n",
       "4               8.0             0            73.0                 1985  ...   \n",
       "\n",
       "     pop10    pop11   pop12   pop13   pop14   pop15   pop16   pop17     pop18   \n",
       "0   1260.0   1310.0  1120.0   710.0   350.0   240.0   180.0   140.0   15250.0  \\\n",
       "1  12150.0  12200.0  9440.0  6220.0  3000.0  2350.0  1560.0  1220.0  138490.0   \n",
       "2   1390.0   1490.0  1120.0   670.0   300.0   210.0   160.0   100.0   16540.0   \n",
       "3    340.0    390.0   290.0   220.0   130.0    90.0    40.0    60.0    4130.0   \n",
       "4   2150.0   2000.0  2230.0  2250.0  1220.0  1020.0   590.0   510.0   28760.0   \n",
       "\n",
       "  resale_price  \n",
       "0     209700.0  \n",
       "1     402300.0  \n",
       "2     351000.0  \n",
       "3     151200.0  \n",
       "4     318600.0  \n",
       "\n",
       "[5 rows x 53 columns]"
      ]
     },
     "execution_count": 5,
     "metadata": {},
     "output_type": "execute_result"
    }
   ],
   "source": [
    "df.head()"
   ]
  },
  {
   "cell_type": "code",
   "execution_count": 6,
   "metadata": {},
   "outputs": [],
   "source": [
    "# convert string to categorical variables\n",
    "df['town'] = df['town'].astype('category')\n",
    "df['block'] = df['block'].astype('category')\n",
    "df['street_name'] = df['street_name'].astype('category')\n",
    "df['flat_model'] = df['flat_model'].astype('category')\n",
    "df['subzone'] = df['subzone'].astype('category')\n",
    "df['planning_area'] = df['planning_area'].astype('category') # 32 planning_areas\n",
    "df['region'] = df['region'].astype('category') # 5 regions\n",
    "df['nearest_center'] = df['nearest_center'].astype('category')\n",
    "df['nearest_markets'] = df['nearest_markets'].astype('category')\n",
    "df['nearest_pri_school'] = df['nearest_pri_school'].astype('category')\n",
    "df['nearest_sec_school'] = df['nearest_sec_school'].astype('category')\n",
    "df['nearest_mall'] = df['nearest_mall'].astype('category')\n",
    "df['nearest_train_station'] = df['nearest_train_station'].astype('category')"
   ]
  },
  {
   "cell_type": "code",
   "execution_count": 7,
   "metadata": {},
   "outputs": [],
   "source": [
    "x_num_cols = ['price_index', 'year', 'month', 'num_rooms', 'is_executive', 'is_multi_gen', 'storey_range_avg', 'is_low_floor', 'floor_area_sqm', 'lease_commence_date', 'latitude', 'cbd_dist', 'longitude', 'n_center_dist', 'nearest_markets_dist', 'nearest_pri_school_dist', 'nearest_sec_school_dist', 'nearest_mall_dist', 'nearest_train_station_dist']\n",
    "x_cat_cols = ['flat_model', 'planning_area', 'nearest_center', 'nearest_train_station']\n",
    "# x_cat_cols = ['flat_model', 'planning_area', 'nearest_center', 'nearest_markets', 'nearest_pri_school', 'nearest_sec_school', 'nearest_mall', 'nearest_train_station']\n",
    "y_col = 'resale_price'"
   ]
  },
  {
   "cell_type": "code",
   "execution_count": 8,
   "metadata": {},
   "outputs": [],
   "source": [
    "encoder = OneHotEncoder(drop='first').fit(df[x_cat_cols])\n",
    "X_cat_encoded = pd.DataFrame(encoder.transform(df[x_cat_cols]).toarray(), columns=encoder.get_feature_names_out())"
   ]
  },
  {
   "cell_type": "code",
   "execution_count": 9,
   "metadata": {},
   "outputs": [],
   "source": [
    "X_encoded = pd.concat([df[x_num_cols], X_cat_encoded], axis=1)"
   ]
  },
  {
   "cell_type": "code",
   "execution_count": 10,
   "metadata": {},
   "outputs": [],
   "source": [
    "scaler = StandardScaler().fit(X_encoded)\n",
    "X_scaled = pd.DataFrame(scaler.transform(X_encoded), columns=X_encoded.columns)"
   ]
  },
  {
   "cell_type": "code",
   "execution_count": 11,
   "metadata": {},
   "outputs": [],
   "source": [
    "X_train, X_test, y_train, y_test = train_test_split(X_scaled, df[y_col], test_size=0.2)"
   ]
  },
  {
   "cell_type": "code",
   "execution_count": 12,
   "metadata": {},
   "outputs": [],
   "source": [
    "results = {}"
   ]
  },
  {
   "cell_type": "markdown",
   "metadata": {},
   "source": [
    "# Linear Regression"
   ]
  },
  {
   "cell_type": "code",
   "execution_count": 13,
   "metadata": {},
   "outputs": [
    {
     "name": "stdout",
     "output_type": "stream",
     "text": [
      "MSE: 1371053839.68, r2: 0.92\n"
     ]
    }
   ],
   "source": [
    "lr = LinearRegression()\n",
    "lr.fit(X_train, y_train)\n",
    "y_pred = lr.predict(X_test)\n",
    "res = [mean_squared_error(y_test, y_pred), r2_score(y_test, y_pred)]\n",
    "results['linear_regression'] = res\n",
    "print(\"MSE: {:.2f}, r2: {:.2f}\".format(*res))"
   ]
  },
  {
   "cell_type": "markdown",
   "metadata": {},
   "source": [
    "# Random Forest"
   ]
  },
  {
   "cell_type": "code",
   "execution_count": 14,
   "metadata": {},
   "outputs": [
    {
     "name": "stdout",
     "output_type": "stream",
     "text": [
      "MSE: 320462476.64, r2: 0.98\n"
     ]
    }
   ],
   "source": [
    "rfr = RandomForestRegressor()\n",
    "rfr.fit(X_train, y_train)\n",
    "y_pred = rfr.predict(X_test)\n",
    "res = [mean_squared_error(y_test, y_pred), r2_score(y_test, y_pred)]\n",
    "results['random_forest'] = res\n",
    "print(\"MSE: {:.2f}, r2: {:.2f}\".format(*res))"
   ]
  },
  {
   "cell_type": "code",
   "execution_count": 15,
   "metadata": {
    "tags": []
   },
   "outputs": [
    {
     "data": {
      "image/png": "[encoded data removed]",
      "text/plain": [
       "<Figure size 640x480 with 1 Axes>"
      ]
     },
     "metadata": {},
     "output_type": "display_data"
    }
   ],
   "source": [
    "# Get feature importances from our random forest model\n",
    "importances = rfr.feature_importances_\n",
    "# Get the index of importances from greatest importance to least\n",
    "sorted_index = np.argsort(importances)[::-1]\n",
    "x = range(len(importances))\n",
    "# Create tick labels \n",
    "labels = np.array(X_train.columns)[sorted_index]\n",
    "plt.bar(range(10), importances[sorted_index][:10], tick_label=labels[:10])\n",
    "# Rotate tick labels to vertical\n",
    "plt.xticks(rotation=90)\n",
    "plt.show()"
   ]
  },
  {
   "cell_type": "markdown",
   "metadata": {},
   "source": [
    "# Gradient Boosting"
   ]
  },
  {
   "cell_type": "code",
   "execution_count": 16,
   "metadata": {},
   "outputs": [
    {
     "name": "stdout",
     "output_type": "stream",
     "text": [
      "MSE: 1001912325.19, r2: 0.94\n"
     ]
    }
   ],
   "source": [
    "# TODO: no parameter tuning yet\n",
    "gbr_model = GradientBoostingRegressor()\n",
    "gbr_model.fit(X_train, y_train)\n",
    "y_pred = gbr_model.predict(X_test)\n",
    "res = [mean_squared_error(y_test, y_pred), r2_score(y_test, y_pred)]\n",
    "results['gradient_boosting'] = res\n",
    "print(\"MSE: {:.2f}, r2: {:.2f}\".format(*res))"
   ]
  },
  {
   "cell_type": "markdown",
   "metadata": {},
   "source": [
    "# AdaBoost"
   ]
  },
  {
   "cell_type": "code",
   "execution_count": 17,
   "metadata": {},
   "outputs": [
    {
     "name": "stdout",
     "output_type": "stream",
     "text": [
      "MSE: 5441418919.17, r2: 0.68\n"
     ]
    }
   ],
   "source": [
    "ada_model = AdaBoostRegressor()\n",
    "ada_model.fit(X_train, y_train)\n",
    "y_pred = ada_model.predict(X_test)\n",
    "res = [mean_squared_error(y_test, y_pred), r2_score(y_test, y_pred)]\n",
    "results['ada_boost'] = res\n",
    "print(\"MSE: {:.2f}, r2: {:.2f}\".format(*res))"
   ]
  },
  {
   "cell_type": "markdown",
   "metadata": {},
   "source": [
    "# XGBoost"
   ]
  },
  {
   "cell_type": "code",
   "execution_count": 18,
   "metadata": {},
   "outputs": [
    {
     "name": "stdout",
     "output_type": "stream",
     "text": [
      "MSE: 411505998.45, r2: 0.98\n"
     ]
    }
   ],
   "source": [
    "# I was told this is a regressor popular in industry...\n",
    "xgb_model = XGBRegressor()\n",
    "xgb_model.fit(X_train, y_train)\n",
    "y_pred = xgb_model.predict(X_test)\n",
    "res = [mean_squared_error(y_test, y_pred), r2_score(y_test, y_pred)]\n",
    "results['xgboost'] = res\n",
    "print(\"MSE: {:.2f}, r2: {:.2f}\".format(*res))"
   ]
  },
  {
   "cell_type": "code",
   "execution_count": 19,
   "metadata": {},
   "outputs": [
    {
     "data": {
      "text/html": [
       "<div>\n",
       "<style scoped>\n",
       "    .dataframe tbody tr th:only-of-type {\n",
       "        vertical-align: middle;\n",
       "    }\n",
       "\n",
       "    .dataframe tbody tr th {\n",
       "        vertical-align: top;\n",
       "    }\n",
       "\n",
       "    .dataframe thead th {\n",
       "        text-align: right;\n",
       "    }\n",
       "</style>\n",
       "<table border=\"1\" class=\"dataframe\">\n",
       "  <thead>\n",
       "    <tr style=\"text-align: right;\">\n",
       "      <th></th>\n",
       "      <th>MSE</th>\n",
       "      <th>r2</th>\n",
       "    </tr>\n",
       "  </thead>\n",
       "  <tbody>\n",
       "    <tr>\n",
       "      <th>linear_regression</th>\n",
       "      <td>1.371054e+09</td>\n",
       "      <td>0.92</td>\n",
       "    </tr>\n",
       "    <tr>\n",
       "      <th>random_forest</th>\n",
       "      <td>3.204625e+08</td>\n",
       "      <td>0.98</td>\n",
       "    </tr>\n",
       "    <tr>\n",
       "      <th>gradient_boosting</th>\n",
       "      <td>1.001912e+09</td>\n",
       "      <td>0.94</td>\n",
       "    </tr>\n",
       "    <tr>\n",
       "      <th>ada_boost</th>\n",
       "      <td>5.441419e+09</td>\n",
       "      <td>0.68</td>\n",
       "    </tr>\n",
       "    <tr>\n",
       "      <th>xgboost</th>\n",
       "      <td>4.115060e+08</td>\n",
       "      <td>0.98</td>\n",
       "    </tr>\n",
       "  </tbody>\n",
       "</table>\n",
       "</div>"
      ],
      "text/plain": [
       "                            MSE    r2\n",
       "linear_regression  1.371054e+09  0.92\n",
       "random_forest      3.204625e+08  0.98\n",
       "gradient_boosting  1.001912e+09  0.94\n",
       "ada_boost          5.441419e+09  0.68\n",
       "xgboost            4.115060e+08  0.98"
      ]
     },
     "execution_count": 19,
     "metadata": {},
     "output_type": "execute_result"
    }
   ],
   "source": [
    "np.round(pd.DataFrame.from_dict(results, orient='index', columns=['MSE', 'r2']), 2)"
   ]
  },
  {
   "cell_type": "markdown",
   "metadata": {},
   "source": [
    "# Parameter Tuning"
   ]
  },
  {
   "cell_type": "code",
   "execution_count": null,
   "metadata": {},
   "outputs": [],
   "source": [
    "# params = {\n",
    "#     \"n_estimators\": [100, 500, 1000], # default is 100\n",
    "#     \"learning_rate\": [0.01, 0.1, 0.2], # default is 0.1\n",
    "#     \"max_depth\": [3, 6, 9], # default is 6\n",
    "#     \"subsample\": [0.8, 1], # default is 1\n",
    "#     \"colsample_bytree\": [0.8, 1], # default is 1\n",
    "# }\n",
    "# best param so far is 2000\n",
    "params = {\n",
    "    \"n_estimators\": [1000, 2000],\n",
    "    \"learning_rate\": [0.05, 0.1, 0.2],\n",
    "    \"max_depth\": [3, 6, 9]\n",
    "}\n",
    "xgb_model = XGBRegressor()\n",
    "grid_search = GridSearchCV(estimator=xgb_model, param_grid=params, cv=5, scoring='neg_mean_squared_error', n_jobs=18)\n",
    "grid_search.fit(X_train, y_train)\n",
    "grid_search.best_params_"
   ]
  },
  {
   "cell_type": "markdown",
   "metadata": {},
   "source": [
    "# Prediction"
   ]
  },
  {
   "cell_type": "code",
   "execution_count": null,
   "metadata": {
    "tags": []
   },
   "outputs": [],
   "source": [
    "test = pd.read_csv('data/test_preprocessed.csv', sep='\\t')"
   ]
  },
  {
   "cell_type": "code",
   "execution_count": null,
   "metadata": {},
   "outputs": [],
   "source": [
    "test.head()"
   ]
  },
  {
   "cell_type": "code",
   "execution_count": null,
   "metadata": {},
   "outputs": [],
   "source": [
    "test['town'] = test['town'].astype('category')\n",
    "test['block'] = test['block'].astype('category')\n",
    "test['street_name'] = test['street_name'].astype('category')\n",
    "test['flat_model'] = test['flat_model'].astype('category')\n",
    "test['subzone'] = test['subzone'].astype('category')\n",
    "test['planning_area'] = test['planning_area'].astype('category')\n",
    "test['region'] = test['region'].astype('category')\n",
    "test['nearest_center'] = test['nearest_center'].astype('category')\n",
    "# test['nearest_markets'] = test['nearest_markets'].astype('category')\n",
    "# test['nearest_pri_school'] = test['nearest_pri_school'].astype('category')\n",
    "# test['nearest_sec_school'] = test['nearest_sec_school'].astype('category')\n",
    "# test['nearest_mall'] = test['nearest_mall'].astype('category')\n",
    "test['nearest_train_station'] = test['nearest_train_station'].astype('category')"
   ]
  },
  {
   "cell_type": "code",
   "execution_count": null,
   "metadata": {},
   "outputs": [],
   "source": [
    "X_cat_encoded_final = pd.DataFrame(encoder.transform(test[x_cat_cols]).toarray(), columns=encoder.get_feature_names_out())\n",
    "X_encoded_final = pd.concat([test[x_num_cols], X_cat_encoded_final], axis=1)\n",
    "X_scaled_final = pd.DataFrame(scaler.transform(X_encoded_final), columns=X_encoded_final.columns)"
   ]
  },
  {
   "cell_type": "code",
   "execution_count": null,
   "metadata": {},
   "outputs": [],
   "source": [
    "y_final = grid_search.predict(X_scaled_final)\n",
    "# y_final = xgb_model.predict(X_scaled_final)"
   ]
  },
  {
   "cell_type": "code",
   "execution_count": null,
   "metadata": {},
   "outputs": [],
   "source": [
    "y_final"
   ]
  },
  {
   "cell_type": "code",
   "execution_count": null,
   "metadata": {},
   "outputs": [],
   "source": [
    "pd.DataFrame({'Id':test.index, 'Predicted':y_final}).to_csv('prediction.csv', index=False)"
   ]
  },
  {
   "cell_type": "code",
   "execution_count": null,
   "metadata": {},
   "outputs": [],
   "source": []
  }
 ],
 "metadata": {
  "kernelspec": {
   "display_name": "Python 3 (ipykernel)",
   "language": "python",
   "name": "python3"
  },
  "language_info": {
   "codemirror_mode": {
    "name": "ipython",
    "version": 3
   },
   "file_extension": ".py",
   "mimetype": "text/x-python",
   "name": "python",
   "nbconvert_exporter": "python",
   "pygments_lexer": "ipython3",
   "version": "3.8.3"
  }
 },
 "nbformat": 4,
 "nbformat_minor": 4
}
