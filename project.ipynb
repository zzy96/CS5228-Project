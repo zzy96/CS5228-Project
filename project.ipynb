{
 "cells": [
  {
   "cell_type": "code",
   "execution_count": 1,
   "metadata": {},
   "outputs": [],
   "source": [
    "import pandas as pd\n",
    "import numpy as np\n",
    "import matplotlib.pyplot as plt\n",
    "from sklearn.model_selection import train_test_split\n",
    "from sklearn.preprocessing import StandardScaler, OneHotEncoder\n",
    "from sklearn.linear_model import LinearRegression\n",
    "from sklearn.ensemble import RandomForestRegressor, GradientBoostingRegressor, AdaBoostRegressor\n",
    "from sklearn.model_selection import train_test_split, GridSearchCV, RandomizedSearchCV\n",
    "from sklearn.metrics import mean_squared_error, r2_score\n",
    "from scipy.stats import randint as sp_randint\n",
    "from sklearn import preprocessing\n",
    "from xgboost import XGBRegressor\n",
    "\n",
    "import extract_location_features\n",
    "import preprocessing"
   ]
  },
  {
   "cell_type": "code",
   "execution_count": 2,
   "metadata": {},
   "outputs": [],
   "source": [
    "# extract_location_features.main()\n",
    "# preprocessing.main()"
   ]
  },
  {
   "cell_type": "code",
   "execution_count": 3,
   "metadata": {},
   "outputs": [],
   "source": [
    "df = pd.read_csv('data/train_preprocessed.csv', sep='\\t')"
   ]
  },
  {
   "cell_type": "code",
   "execution_count": 4,
   "metadata": {},
   "outputs": [
    {
     "name": "stdout",
     "output_type": "stream",
     "text": [
      "<class 'pandas.core.frame.DataFrame'>\n",
      "RangeIndex: 431732 entries, 0 to 431731\n",
      "Data columns (total 23 columns):\n",
      " #   Column               Non-Null Count   Dtype  \n",
      "---  ------               --------------   -----  \n",
      " 0   year                 431732 non-null  int64  \n",
      " 1   month                431732 non-null  int64  \n",
      " 2   num_rooms            431732 non-null  int64  \n",
      " 3   is_executive         431732 non-null  bool   \n",
      " 4   is_multi_gen         431732 non-null  bool   \n",
      " 5   storey_range_avg     431732 non-null  float64\n",
      " 6   is_low_floor         431732 non-null  int64  \n",
      " 7   floor_area_sqm       431732 non-null  float64\n",
      " 8   lease_commence_date  431732 non-null  int64  \n",
      " 9   latitude             431732 non-null  float64\n",
      " 10  longitude            431732 non-null  float64\n",
      " 11  elevation            431732 non-null  float64\n",
      " 12  town                 431732 non-null  object \n",
      " 13  block                431732 non-null  object \n",
      " 14  street_name          431732 non-null  object \n",
      " 15  flat_model           431732 non-null  object \n",
      " 16  subzone              431732 non-null  object \n",
      " 17  planning_area        431732 non-null  object \n",
      " 18  region               431732 non-null  object \n",
      " 19  cbd_dist             431732 non-null  float64\n",
      " 20  nearest_center       431732 non-null  int64  \n",
      " 21  n_center_dist        431732 non-null  float64\n",
      " 22  resale_price         431732 non-null  float64\n",
      "dtypes: bool(2), float64(8), int64(6), object(7)\n",
      "memory usage: 70.0+ MB\n"
     ]
    }
   ],
   "source": [
    "df.info()"
   ]
  },
  {
   "cell_type": "code",
   "execution_count": 5,
   "metadata": {
    "tags": []
   },
   "outputs": [
    {
     "data": {
      "text/html": [
       "<div>\n",
       "<style scoped>\n",
       "    .dataframe tbody tr th:only-of-type {\n",
       "        vertical-align: middle;\n",
       "    }\n",
       "\n",
       "    .dataframe tbody tr th {\n",
       "        vertical-align: top;\n",
       "    }\n",
       "\n",
       "    .dataframe thead th {\n",
       "        text-align: right;\n",
       "    }\n",
       "</style>\n",
       "<table border=\"1\" class=\"dataframe\">\n",
       "  <thead>\n",
       "    <tr style=\"text-align: right;\">\n",
       "      <th></th>\n",
       "      <th>year</th>\n",
       "      <th>month</th>\n",
       "      <th>num_rooms</th>\n",
       "      <th>is_executive</th>\n",
       "      <th>is_multi_gen</th>\n",
       "      <th>storey_range_avg</th>\n",
       "      <th>is_low_floor</th>\n",
       "      <th>floor_area_sqm</th>\n",
       "      <th>lease_commence_date</th>\n",
       "      <th>latitude</th>\n",
       "      <th>...</th>\n",
       "      <th>block</th>\n",
       "      <th>street_name</th>\n",
       "      <th>flat_model</th>\n",
       "      <th>subzone</th>\n",
       "      <th>planning_area</th>\n",
       "      <th>region</th>\n",
       "      <th>cbd_dist</th>\n",
       "      <th>nearest_center</th>\n",
       "      <th>n_center_dist</th>\n",
       "      <th>resale_price</th>\n",
       "    </tr>\n",
       "  </thead>\n",
       "  <tbody>\n",
       "    <tr>\n",
       "      <th>0</th>\n",
       "      <td>2001</td>\n",
       "      <td>8</td>\n",
       "      <td>4</td>\n",
       "      <td>False</td>\n",
       "      <td>False</td>\n",
       "      <td>2.0</td>\n",
       "      <td>1</td>\n",
       "      <td>118.0</td>\n",
       "      <td>1989</td>\n",
       "      <td>1.369008</td>\n",
       "      <td>...</td>\n",
       "      <td>440</td>\n",
       "      <td>pasir ris drive 4</td>\n",
       "      <td>model a</td>\n",
       "      <td>pasir ris drive</td>\n",
       "      <td>pasir ris</td>\n",
       "      <td>east region</td>\n",
       "      <td>14.755260</td>\n",
       "      <td>3</td>\n",
       "      <td>2.314</td>\n",
       "      <td>209700.0</td>\n",
       "    </tr>\n",
       "    <tr>\n",
       "      <th>1</th>\n",
       "      <td>2014</td>\n",
       "      <td>10</td>\n",
       "      <td>5</td>\n",
       "      <td>False</td>\n",
       "      <td>False</td>\n",
       "      <td>11.0</td>\n",
       "      <td>0</td>\n",
       "      <td>110.0</td>\n",
       "      <td>2003</td>\n",
       "      <td>1.399007</td>\n",
       "      <td>...</td>\n",
       "      <td>196B</td>\n",
       "      <td>punggol field</td>\n",
       "      <td>improved</td>\n",
       "      <td>punggol field</td>\n",
       "      <td>punggol</td>\n",
       "      <td>north-east region</td>\n",
       "      <td>13.775751</td>\n",
       "      <td>16</td>\n",
       "      <td>1.462</td>\n",
       "      <td>402300.0</td>\n",
       "    </tr>\n",
       "    <tr>\n",
       "      <th>2</th>\n",
       "      <td>2020</td>\n",
       "      <td>9</td>\n",
       "      <td>5</td>\n",
       "      <td>False</td>\n",
       "      <td>False</td>\n",
       "      <td>2.0</td>\n",
       "      <td>1</td>\n",
       "      <td>112.0</td>\n",
       "      <td>2004</td>\n",
       "      <td>1.388348</td>\n",
       "      <td>...</td>\n",
       "      <td>404A</td>\n",
       "      <td>fernvale lane</td>\n",
       "      <td>premium apartment</td>\n",
       "      <td>fernvale</td>\n",
       "      <td>sengkang</td>\n",
       "      <td>north-east region</td>\n",
       "      <td>11.496847</td>\n",
       "      <td>18</td>\n",
       "      <td>1.445</td>\n",
       "      <td>351000.0</td>\n",
       "    </tr>\n",
       "    <tr>\n",
       "      <th>3</th>\n",
       "      <td>2000</td>\n",
       "      <td>10</td>\n",
       "      <td>3</td>\n",
       "      <td>False</td>\n",
       "      <td>False</td>\n",
       "      <td>8.0</td>\n",
       "      <td>0</td>\n",
       "      <td>67.0</td>\n",
       "      <td>1980</td>\n",
       "      <td>1.318493</td>\n",
       "      <td>...</td>\n",
       "      <td>375</td>\n",
       "      <td>clementi avenue 4</td>\n",
       "      <td>new generation</td>\n",
       "      <td>clementi north</td>\n",
       "      <td>clementi</td>\n",
       "      <td>west region</td>\n",
       "      <td>10.381140</td>\n",
       "      <td>9</td>\n",
       "      <td>2.387</td>\n",
       "      <td>151200.0</td>\n",
       "    </tr>\n",
       "    <tr>\n",
       "      <th>4</th>\n",
       "      <td>2013</td>\n",
       "      <td>1</td>\n",
       "      <td>3</td>\n",
       "      <td>False</td>\n",
       "      <td>False</td>\n",
       "      <td>8.0</td>\n",
       "      <td>0</td>\n",
       "      <td>73.0</td>\n",
       "      <td>1985</td>\n",
       "      <td>1.348149</td>\n",
       "      <td>...</td>\n",
       "      <td>163</td>\n",
       "      <td>bukit batok street 11</td>\n",
       "      <td>model a</td>\n",
       "      <td>bukit batok west</td>\n",
       "      <td>bukit batok</td>\n",
       "      <td>west region</td>\n",
       "      <td>14.185992</td>\n",
       "      <td>1</td>\n",
       "      <td>1.807</td>\n",
       "      <td>318600.0</td>\n",
       "    </tr>\n",
       "  </tbody>\n",
       "</table>\n",
       "<p>5 rows × 23 columns</p>\n",
       "</div>"
      ],
      "text/plain": [
       "   year  month  num_rooms  is_executive  is_multi_gen  storey_range_avg   \n",
       "0  2001      8          4         False         False               2.0  \\\n",
       "1  2014     10          5         False         False              11.0   \n",
       "2  2020      9          5         False         False               2.0   \n",
       "3  2000     10          3         False         False               8.0   \n",
       "4  2013      1          3         False         False               8.0   \n",
       "\n",
       "   is_low_floor  floor_area_sqm  lease_commence_date  latitude  ...  block   \n",
       "0             1           118.0                 1989  1.369008  ...    440  \\\n",
       "1             0           110.0                 2003  1.399007  ...   196B   \n",
       "2             1           112.0                 2004  1.388348  ...   404A   \n",
       "3             0            67.0                 1980  1.318493  ...    375   \n",
       "4             0            73.0                 1985  1.348149  ...    163   \n",
       "\n",
       "             street_name         flat_model           subzone planning_area   \n",
       "0      pasir ris drive 4            model a   pasir ris drive     pasir ris  \\\n",
       "1          punggol field           improved     punggol field       punggol   \n",
       "2          fernvale lane  premium apartment          fernvale      sengkang   \n",
       "3      clementi avenue 4     new generation    clementi north      clementi   \n",
       "4  bukit batok street 11            model a  bukit batok west   bukit batok   \n",
       "\n",
       "              region   cbd_dist nearest_center n_center_dist  resale_price  \n",
       "0        east region  14.755260              3         2.314      209700.0  \n",
       "1  north-east region  13.775751             16         1.462      402300.0  \n",
       "2  north-east region  11.496847             18         1.445      351000.0  \n",
       "3        west region  10.381140              9         2.387      151200.0  \n",
       "4        west region  14.185992              1         1.807      318600.0  \n",
       "\n",
       "[5 rows x 23 columns]"
      ]
     },
     "execution_count": 5,
     "metadata": {},
     "output_type": "execute_result"
    }
   ],
   "source": [
    "df.head()"
   ]
  },
  {
   "cell_type": "code",
   "execution_count": 6,
   "metadata": {},
   "outputs": [],
   "source": [
    "# convert string to categorical variables\n",
    "df['town'] = df['town'].astype('category')\n",
    "df['block'] = df['block'].astype('category')\n",
    "df['street_name'] = df['street_name'].astype('category')\n",
    "df['flat_model'] = df['flat_model'].astype('category')\n",
    "df['subzone'] = df['subzone'].astype('category')\n",
    "df['planning_area'] = df['planning_area'].astype('category') # 32 planning_areas\n",
    "df['region'] = df['region'].astype('category') # 5 regions\n",
    "df['nearest_center'] = df['nearest_center'].astype('category')"
   ]
  },
  {
   "cell_type": "code",
   "execution_count": 7,
   "metadata": {},
   "outputs": [],
   "source": [
    "x_num_cols = ['year', 'month', 'num_rooms', 'is_executive', 'is_multi_gen', 'storey_range_avg', 'is_low_floor', 'floor_area_sqm', 'lease_commence_date', 'latitude', 'cbd_dist', 'longitude', 'n_center_dist']\n",
    "x_cat_cols = ['flat_model', 'planning_area', 'nearest_center']\n",
    "y_col = 'resale_price'"
   ]
  },
  {
   "cell_type": "code",
   "execution_count": 8,
   "metadata": {},
   "outputs": [],
   "source": [
    "encoder = OneHotEncoder(drop='first').fit(df[x_cat_cols])\n",
    "X_cat_encoded = pd.DataFrame(encoder.transform(df[x_cat_cols]).toarray(), columns=encoder.get_feature_names_out())"
   ]
  },
  {
   "cell_type": "code",
   "execution_count": 9,
   "metadata": {},
   "outputs": [],
   "source": [
    "X_encoded = pd.concat([df[x_num_cols], X_cat_encoded], axis=1)"
   ]
  },
  {
   "cell_type": "code",
   "execution_count": 10,
   "metadata": {},
   "outputs": [],
   "source": [
    "scaler = StandardScaler().fit(X_encoded)\n",
    "X_scaled = pd.DataFrame(scaler.transform(X_encoded), columns=X_encoded.columns)"
   ]
  },
  {
   "cell_type": "code",
   "execution_count": 11,
   "metadata": {},
   "outputs": [],
   "source": [
    "X_train, X_test, y_train, y_test = train_test_split(X_scaled, df[y_col], test_size=0.33)"
   ]
  },
  {
   "cell_type": "code",
   "execution_count": 12,
   "metadata": {},
   "outputs": [],
   "source": [
    "results = {}"
   ]
  },
  {
   "cell_type": "markdown",
   "metadata": {},
   "source": [
    "# Linear Regression"
   ]
  },
  {
   "cell_type": "code",
   "execution_count": 13,
   "metadata": {},
   "outputs": [
    {
     "name": "stdout",
     "output_type": "stream",
     "text": [
      "MSE: 3058176631.00, r2: 0.82\n"
     ]
    }
   ],
   "source": [
    "lr = LinearRegression()\n",
    "lr.fit(X_train, y_train)\n",
    "y_pred = lr.predict(X_test)\n",
    "res = [mean_squared_error(y_test, y_pred), r2_score(y_test, y_pred)]\n",
    "results['linear_regression'] = res\n",
    "print(\"MSE: {:.2f}, r2: {:.2f}\".format(*res))"
   ]
  },
  {
   "cell_type": "markdown",
   "metadata": {},
   "source": [
    "# Random Forest"
   ]
  },
  {
   "cell_type": "code",
   "execution_count": 14,
   "metadata": {},
   "outputs": [
    {
     "name": "stdout",
     "output_type": "stream",
     "text": [
      "MSE: 1007989947.64, r2: 0.94\n"
     ]
    }
   ],
   "source": [
    "rfr = RandomForestRegressor(n_estimators=100, max_depth=10)\n",
    "rfr.fit(X_train, y_train)\n",
    "y_pred = rfr.predict(X_test)\n",
    "res = [mean_squared_error(y_test, y_pred), r2_score(y_test, y_pred)]\n",
    "results['random_forest'] = res\n",
    "print(\"MSE: {:.2f}, r2: {:.2f}\".format(*res))"
   ]
  },
  {
   "cell_type": "code",
   "execution_count": 26,
   "metadata": {
    "tags": []
   },
   "outputs": [
    {
     "data": {
      "image/png": "[encoded data removed]",
      "text/plain": [
       "<Figure size 640x480 with 1 Axes>"
      ]
     },
     "metadata": {},
     "output_type": "display_data"
    }
   ],
   "source": [
    "# Get feature importances from our random forest model\n",
    "importances = rfr.feature_importances_\n",
    "# Get the index of importances from greatest importance to least\n",
    "sorted_index = np.argsort(importances)[::-1]\n",
    "x = range(len(importances))\n",
    "# Create tick labels \n",
    "labels = np.array(X_train.columns)[sorted_index]\n",
    "plt.bar(range(10), importances[sorted_index][:10], tick_label=labels[:10])\n",
    "# Rotate tick labels to vertical\n",
    "plt.xticks(rotation=90)\n",
    "plt.show()"
   ]
  },
  {
   "cell_type": "markdown",
   "metadata": {},
   "source": [
    "# Gradient Boosting"
   ]
  },
  {
   "cell_type": "code",
   "execution_count": 15,
   "metadata": {},
   "outputs": [
    {
     "name": "stdout",
     "output_type": "stream",
     "text": [
      "MSE: 1085618024.46, r2: 0.94\n"
     ]
    }
   ],
   "source": [
    "# TODO: no parameter tuning yet\n",
    "gbr_model = GradientBoostingRegressor()\n",
    "gbr_model.fit(X_train, y_train)\n",
    "y_pred = gbr_model.predict(X_test)\n",
    "res = [mean_squared_error(y_test, y_pred), r2_score(y_test, y_pred)]\n",
    "results['gradient_boosting'] = res\n",
    "print(\"MSE: {:.2f}, r2: {:.2f}\".format(*res))"
   ]
  },
  {
   "cell_type": "markdown",
   "metadata": {},
   "source": [
    "# AdaBoost"
   ]
  },
  {
   "cell_type": "code",
   "execution_count": 16,
   "metadata": {},
   "outputs": [
    {
     "name": "stdout",
     "output_type": "stream",
     "text": [
      "MSE: 5658664747.80, r2: 0.66\n"
     ]
    }
   ],
   "source": [
    "ada_model = AdaBoostRegressor()\n",
    "ada_model.fit(X_train, y_train)\n",
    "y_pred = ada_model.predict(X_test)\n",
    "res = [mean_squared_error(y_test, y_pred), r2_score(y_test, y_pred)]\n",
    "results['ada_boost'] = res\n",
    "print(\"MSE: {:.2f}, r2: {:.2f}\".format(*res))"
   ]
  },
  {
   "cell_type": "markdown",
   "metadata": {},
   "source": [
    "# XGBoost"
   ]
  },
  {
   "cell_type": "code",
   "execution_count": 17,
   "metadata": {},
   "outputs": [
    {
     "name": "stdout",
     "output_type": "stream",
     "text": [
      "MSE: 411451920.41, r2: 0.98\n"
     ]
    }
   ],
   "source": [
    "# I was told this is a regressor popular in industry...\n",
    "xgb_model = XGBRegressor(objective='reg:squarederror')\n",
    "xgb_model.fit(X_train, y_train)\n",
    "y_pred = xgb_model.predict(X_test)\n",
    "res = [mean_squared_error(y_test, y_pred), r2_score(y_test, y_pred)]\n",
    "results['xgboost'] = res\n",
    "print(\"MSE: {:.2f}, r2: {:.2f}\".format(*res))"
   ]
  },
  {
   "cell_type": "code",
   "execution_count": 18,
   "metadata": {},
   "outputs": [
    {
     "data": {
      "text/html": [
       "<div>\n",
       "<style scoped>\n",
       "    .dataframe tbody tr th:only-of-type {\n",
       "        vertical-align: middle;\n",
       "    }\n",
       "\n",
       "    .dataframe tbody tr th {\n",
       "        vertical-align: top;\n",
       "    }\n",
       "\n",
       "    .dataframe thead th {\n",
       "        text-align: right;\n",
       "    }\n",
       "</style>\n",
       "<table border=\"1\" class=\"dataframe\">\n",
       "  <thead>\n",
       "    <tr style=\"text-align: right;\">\n",
       "      <th></th>\n",
       "      <th>MSE</th>\n",
       "      <th>r2</th>\n",
       "    </tr>\n",
       "  </thead>\n",
       "  <tbody>\n",
       "    <tr>\n",
       "      <th>linear_regression</th>\n",
       "      <td>3.058177e+09</td>\n",
       "      <td>0.82</td>\n",
       "    </tr>\n",
       "    <tr>\n",
       "      <th>random_forest</th>\n",
       "      <td>1.007990e+09</td>\n",
       "      <td>0.94</td>\n",
       "    </tr>\n",
       "    <tr>\n",
       "      <th>gradient_boosting</th>\n",
       "      <td>1.085618e+09</td>\n",
       "      <td>0.94</td>\n",
       "    </tr>\n",
       "    <tr>\n",
       "      <th>ada_boost</th>\n",
       "      <td>5.658665e+09</td>\n",
       "      <td>0.66</td>\n",
       "    </tr>\n",
       "    <tr>\n",
       "      <th>xgboost</th>\n",
       "      <td>4.114519e+08</td>\n",
       "      <td>0.98</td>\n",
       "    </tr>\n",
       "  </tbody>\n",
       "</table>\n",
       "</div>"
      ],
      "text/plain": [
       "                            MSE    r2\n",
       "linear_regression  3.058177e+09  0.82\n",
       "random_forest      1.007990e+09  0.94\n",
       "gradient_boosting  1.085618e+09  0.94\n",
       "ada_boost          5.658665e+09  0.66\n",
       "xgboost            4.114519e+08  0.98"
      ]
     },
     "execution_count": 18,
     "metadata": {},
     "output_type": "execute_result"
    }
   ],
   "source": [
    "np.round(pd.DataFrame.from_dict(results, orient='index', columns=['MSE', 'r2']), 2)"
   ]
  },
  {
   "cell_type": "markdown",
   "metadata": {},
   "source": [
    "# Prediction"
   ]
  },
  {
   "cell_type": "code",
   "execution_count": 19,
   "metadata": {},
   "outputs": [],
   "source": [
    "test = pd.read_csv('data/test_preprocessed.csv', sep='\\t')"
   ]
  },
  {
   "cell_type": "code",
   "execution_count": 20,
   "metadata": {},
   "outputs": [
    {
     "data": {
      "text/html": [
       "<div>\n",
       "<style scoped>\n",
       "    .dataframe tbody tr th:only-of-type {\n",
       "        vertical-align: middle;\n",
       "    }\n",
       "\n",
       "    .dataframe tbody tr th {\n",
       "        vertical-align: top;\n",
       "    }\n",
       "\n",
       "    .dataframe thead th {\n",
       "        text-align: right;\n",
       "    }\n",
       "</style>\n",
       "<table border=\"1\" class=\"dataframe\">\n",
       "  <thead>\n",
       "    <tr style=\"text-align: right;\">\n",
       "      <th></th>\n",
       "      <th>year</th>\n",
       "      <th>month</th>\n",
       "      <th>num_rooms</th>\n",
       "      <th>is_executive</th>\n",
       "      <th>is_multi_gen</th>\n",
       "      <th>storey_range_avg</th>\n",
       "      <th>is_low_floor</th>\n",
       "      <th>floor_area_sqm</th>\n",
       "      <th>lease_commence_date</th>\n",
       "      <th>latitude</th>\n",
       "      <th>...</th>\n",
       "      <th>town</th>\n",
       "      <th>block</th>\n",
       "      <th>street_name</th>\n",
       "      <th>flat_model</th>\n",
       "      <th>subzone</th>\n",
       "      <th>planning_area</th>\n",
       "      <th>region</th>\n",
       "      <th>cbd_dist</th>\n",
       "      <th>nearest_center</th>\n",
       "      <th>n_center_dist</th>\n",
       "    </tr>\n",
       "  </thead>\n",
       "  <tbody>\n",
       "    <tr>\n",
       "      <th>0</th>\n",
       "      <td>2004</td>\n",
       "      <td>1</td>\n",
       "      <td>4</td>\n",
       "      <td>False</td>\n",
       "      <td>False</td>\n",
       "      <td>5.0</td>\n",
       "      <td>1</td>\n",
       "      <td>94.0</td>\n",
       "      <td>1989</td>\n",
       "      <td>1.346581</td>\n",
       "      <td>...</td>\n",
       "      <td>bukit batok</td>\n",
       "      <td>186</td>\n",
       "      <td>bukit batok west avenue 6</td>\n",
       "      <td>new generation</td>\n",
       "      <td>bukit batok west</td>\n",
       "      <td>bukit batok</td>\n",
       "      <td>west region</td>\n",
       "      <td>13.963190</td>\n",
       "      <td>1</td>\n",
       "      <td>1.750</td>\n",
       "    </tr>\n",
       "    <tr>\n",
       "      <th>1</th>\n",
       "      <td>2001</td>\n",
       "      <td>11</td>\n",
       "      <td>5</td>\n",
       "      <td>False</td>\n",
       "      <td>False</td>\n",
       "      <td>5.0</td>\n",
       "      <td>1</td>\n",
       "      <td>122.0</td>\n",
       "      <td>1997</td>\n",
       "      <td>1.357618</td>\n",
       "      <td>...</td>\n",
       "      <td>tampines</td>\n",
       "      <td>366</td>\n",
       "      <td>tampines street 34</td>\n",
       "      <td>improved</td>\n",
       "      <td>tampines east</td>\n",
       "      <td>tampines</td>\n",
       "      <td>east region</td>\n",
       "      <td>14.253167</td>\n",
       "      <td>3</td>\n",
       "      <td>1.866</td>\n",
       "    </tr>\n",
       "    <tr>\n",
       "      <th>2</th>\n",
       "      <td>2002</td>\n",
       "      <td>7</td>\n",
       "      <td>3</td>\n",
       "      <td>False</td>\n",
       "      <td>False</td>\n",
       "      <td>2.0</td>\n",
       "      <td>1</td>\n",
       "      <td>67.0</td>\n",
       "      <td>1982</td>\n",
       "      <td>1.337804</td>\n",
       "      <td>...</td>\n",
       "      <td>jurong east</td>\n",
       "      <td>206</td>\n",
       "      <td>jurong east street 21</td>\n",
       "      <td>new generation</td>\n",
       "      <td>toh guan</td>\n",
       "      <td>jurong east</td>\n",
       "      <td>west region</td>\n",
       "      <td>13.736600</td>\n",
       "      <td>1</td>\n",
       "      <td>0.929</td>\n",
       "    </tr>\n",
       "    <tr>\n",
       "      <th>3</th>\n",
       "      <td>2015</td>\n",
       "      <td>4</td>\n",
       "      <td>3</td>\n",
       "      <td>False</td>\n",
       "      <td>False</td>\n",
       "      <td>5.0</td>\n",
       "      <td>1</td>\n",
       "      <td>82.0</td>\n",
       "      <td>1981</td>\n",
       "      <td>1.380084</td>\n",
       "      <td>...</td>\n",
       "      <td>ang mo kio</td>\n",
       "      <td>180</td>\n",
       "      <td>Ang Mo Kio Avenue 5</td>\n",
       "      <td>new generation</td>\n",
       "      <td>yio chu kang east</td>\n",
       "      <td>ang mo kio</td>\n",
       "      <td>north-east region</td>\n",
       "      <td>10.390801</td>\n",
       "      <td>18</td>\n",
       "      <td>2.027</td>\n",
       "    </tr>\n",
       "    <tr>\n",
       "      <th>4</th>\n",
       "      <td>2004</td>\n",
       "      <td>4</td>\n",
       "      <td>5</td>\n",
       "      <td>False</td>\n",
       "      <td>False</td>\n",
       "      <td>2.0</td>\n",
       "      <td>1</td>\n",
       "      <td>117.0</td>\n",
       "      <td>1978</td>\n",
       "      <td>1.313960</td>\n",
       "      <td>...</td>\n",
       "      <td>clementi</td>\n",
       "      <td>356</td>\n",
       "      <td>clementi avenue 2</td>\n",
       "      <td>standard</td>\n",
       "      <td>clementi north</td>\n",
       "      <td>clementi</td>\n",
       "      <td>west region</td>\n",
       "      <td>9.889045</td>\n",
       "      <td>28</td>\n",
       "      <td>2.400</td>\n",
       "    </tr>\n",
       "  </tbody>\n",
       "</table>\n",
       "<p>5 rows × 22 columns</p>\n",
       "</div>"
      ],
      "text/plain": [
       "   year  month  num_rooms  is_executive  is_multi_gen  storey_range_avg   \n",
       "0  2004      1          4         False         False               5.0  \\\n",
       "1  2001     11          5         False         False               5.0   \n",
       "2  2002      7          3         False         False               2.0   \n",
       "3  2015      4          3         False         False               5.0   \n",
       "4  2004      4          5         False         False               2.0   \n",
       "\n",
       "   is_low_floor  floor_area_sqm  lease_commence_date  latitude  ...   \n",
       "0             1            94.0                 1989  1.346581  ...  \\\n",
       "1             1           122.0                 1997  1.357618  ...   \n",
       "2             1            67.0                 1982  1.337804  ...   \n",
       "3             1            82.0                 1981  1.380084  ...   \n",
       "4             1           117.0                 1978  1.313960  ...   \n",
       "\n",
       "          town  block                street_name      flat_model   \n",
       "0  bukit batok    186  bukit batok west avenue 6  new generation  \\\n",
       "1     tampines    366         tampines street 34        improved   \n",
       "2  jurong east    206      jurong east street 21  new generation   \n",
       "3   ang mo kio    180        Ang Mo Kio Avenue 5  new generation   \n",
       "4     clementi    356          clementi avenue 2        standard   \n",
       "\n",
       "             subzone planning_area             region   cbd_dist   \n",
       "0   bukit batok west   bukit batok        west region  13.963190  \\\n",
       "1      tampines east      tampines        east region  14.253167   \n",
       "2           toh guan   jurong east        west region  13.736600   \n",
       "3  yio chu kang east    ang mo kio  north-east region  10.390801   \n",
       "4     clementi north      clementi        west region   9.889045   \n",
       "\n",
       "  nearest_center  n_center_dist  \n",
       "0              1          1.750  \n",
       "1              3          1.866  \n",
       "2              1          0.929  \n",
       "3             18          2.027  \n",
       "4             28          2.400  \n",
       "\n",
       "[5 rows x 22 columns]"
      ]
     },
     "execution_count": 20,
     "metadata": {},
     "output_type": "execute_result"
    }
   ],
   "source": [
    "test.head()"
   ]
  },
  {
   "cell_type": "code",
   "execution_count": 21,
   "metadata": {},
   "outputs": [],
   "source": [
    "test['town'] = test['town'].astype('category')\n",
    "test['block'] = test['block'].astype('category')\n",
    "test['street_name'] = test['street_name'].astype('category')\n",
    "test['flat_model'] = test['flat_model'].astype('category')\n",
    "test['subzone'] = test['subzone'].astype('category')\n",
    "test['planning_area'] = test['planning_area'].astype('category')\n",
    "test['region'] = test['region'].astype('category')\n",
    "test['nearest_center'] = test['nearest_center'].astype('category')"
   ]
  },
  {
   "cell_type": "code",
   "execution_count": 22,
   "metadata": {},
   "outputs": [],
   "source": [
    "X_cat_encoded_final = pd.DataFrame(encoder.transform(test[x_cat_cols]).toarray(), columns=encoder.get_feature_names_out())\n",
    "X_encoded_final = pd.concat([test[x_num_cols], X_cat_encoded_final], axis=1)\n",
    "X_scaled_final = pd.DataFrame(scaler.transform(X_encoded_final), columns=X_encoded_final.columns)"
   ]
  },
  {
   "cell_type": "code",
   "execution_count": 23,
   "metadata": {},
   "outputs": [],
   "source": [
    "y_final = xgb_model.predict(X_scaled_final)"
   ]
  },
  {
   "cell_type": "code",
   "execution_count": 24,
   "metadata": {},
   "outputs": [
    {
     "data": {
      "text/plain": [
       "array([191216.9 , 313269.12, 119683.41, ..., 162296.5 , 248114.94,\n",
       "       327756.16], dtype=float32)"
      ]
     },
     "execution_count": 24,
     "metadata": {},
     "output_type": "execute_result"
    }
   ],
   "source": [
    "y_final"
   ]
  },
  {
   "cell_type": "code",
   "execution_count": 25,
   "metadata": {},
   "outputs": [],
   "source": [
    "pd.DataFrame({'Id':test.index, 'Predicted':y_final}).to_csv('prediction.csv', index=False)"
   ]
  },
  {
   "cell_type": "code",
   "execution_count": null,
   "metadata": {},
   "outputs": [],
   "source": []
  }
 ],
 "metadata": {
  "kernelspec": {
   "display_name": "Python 3 (ipykernel)",
   "language": "python",
   "name": "python3"
  },
  "language_info": {
   "codemirror_mode": {
    "name": "ipython",
    "version": 3
   },
   "file_extension": ".py",
   "mimetype": "text/x-python",
   "name": "python",
   "nbconvert_exporter": "python",
   "pygments_lexer": "ipython3",
   "version": "3.9.6"
  }
 },
 "nbformat": 4,
 "nbformat_minor": 4
}
